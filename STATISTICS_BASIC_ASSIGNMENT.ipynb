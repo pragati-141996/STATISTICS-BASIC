{
  "nbformat": 4,
  "nbformat_minor": 0,
  "metadata": {
    "colab": {
      "provenance": []
    },
    "kernelspec": {
      "name": "python3",
      "display_name": "Python 3"
    },
    "language_info": {
      "name": "python"
    }
  },
  "cells": [
    {
      "cell_type": "markdown",
      "source": [
        "# STATISTICS BASIC"
      ],
      "metadata": {
        "id": "9LuUwTl_9w4h"
      }
    },
    {
      "cell_type": "markdown",
      "source": [
        "1. What is statistics, and why is it important ?\n",
        "-  Statistics is the branch of mathematics that deals with collecting, organizing, analyzing, interpreting, and presenting data. It helps us make sense of complex data by summarizing it in a meaningful way and drawing conclusions from it.\n",
        "-  IMPORTANCE:\n",
        "-  Informed Decision-Making: From governments to businesses to individuals, statistics guide choices based on data rather than guesswork.\n",
        "-  Understanding Trends and Patterns: It helps identify trends in areas like health, economics, education, and sports (e.g., predicting election results or consumer behavior).\n",
        "-  Scientific Research: Statistics is essential for designing experiments, analyzing results, and validating findings in scientific and medical studies.\n",
        "-  Quality Control and Improvement: Industries use statistics to monitor product quality and improve processes.\n",
        "-  Risk Assessment: In finance and insurance, statistics assess probabilities and manage risks effectively.\n",
        "\n",
        "2. What are the two main types of statistics ?\n",
        "-  DESCRIPTIVE STATISTICS :Descriptive statistics involve methods for organizing, summarizing, and presenting data in a meaningful way. This type of statistics helps us understand what the data shows at a glance, without making predictions or generalizations.Examples:Measures of Central Tendency: Mean (average), median (middle value), mode (most frequent value),measures of Spread: Range, variance, standard deviation,data Visualization: Tables, bar graphs, pie charts, histograms.\n",
        "-  INFERENTIAL STATISTICS:  Inferential statistics involve using a sample of data to make conclusions or predictions about a larger population. It helps in decision-making under uncertainty by using probability theory.Examples:Hypothesis Testing: Determining if a new drug is more effective than an old one,confidence Intervals: Estimating the average height of all college students based on a sample,regression Analysis: Predicting sales based on advertising budget.\n",
        "\n",
        "3. What are descriptive statistics?\n",
        "-  DESCRIPTIVE STATISTICS :Descriptive statistics involve methods for organizing, summarizing, and presenting data in a meaningful way. This type of statistics helps us understand what the data shows at a glance, without making predictions or generalizations.Examples:Measures of Central Tendency: Mean (average), median (middle value), mode (most frequent value),measures of Spread: Range, variance, standard deviation,data Visualization: Tables, bar graphs, pie charts, histograms.\n",
        "\n",
        "4. What is inferential statistics?\n",
        "-  INFERENTIAL STATISTICS:  Inferential statistics involve using a sample of data to make conclusions or predictions about a larger population. It helps in decision-making under uncertainty by using probability theory.Examples:Hypothesis Testing: Determining if a new drug is more effective than an old one,confidence Intervals: Estimating the average height of all college students based on a sample,regression Analysis: Predicting sales based on advertising budget.\n",
        "\n",
        "5. What is sampling in statistics?\n",
        "-  Sampling in statistics is the process of selecting a subset, known as a sample, from a larger group called the population, in order to gather information and make conclusions about the entire population. It is used when studying the whole population is impractical due to time, cost, or resource constraints.Sampling helps in collecting data efficiently while still providing reliable and accurate results if done correctly.\n",
        "\n",
        "6. What are the different types of sampling methods?\n",
        "-  Sampling methods are the techniques used to select a sample from a population. They are mainly divided into two categories: probability sampling and non-probability sampling.\n",
        "-  Probability Sampling :Every member of the population has a known, non-zero chance of being selected.\n",
        "-  Simple Random Sampling: Every member has an equal chance of being selected (e.g., lottery draw).\n",
        "-  Systematic Sampling: Selecting every kᵗʰ member from a list (e.g., every 10th person).\n",
        "-  Stratified Sampling: The population is divided into groups (strata), and samples are taken from each group proportionally.\n",
        "-  Cluster Sampling: The population is divided into clusters (e.g., schools, regions), and some clusters are randomly selected, then all or some members are surveyed.\n",
        "-  Non-Probability Sampling:Not every member has a chance of being selected; selection is based on subjective judgment.\n",
        "-  Convenience Sampling: Sample is taken from a group that is easy to access (e.g., surveying people at a mall).\n",
        "-  Judgmental or Purposive Sampling: Researcher selects based on who they think would be most useful or representative.\n",
        "-  Quota Sampling: Ensuring certain characteristics are represented (e.g., 50% male, 50% female), but selection within groups is not random.\n",
        "-  Snowball Sampling: Existing subjects recruit future subjects (often used for hard-to-reach populations).\n",
        "\n",
        "7. What is the difference between random and non-random sampling?\n",
        "-  Random Sampling (Probability Sampling):Each member of the population has a known and equal chance of being selected.The selection is done purely by chance, reducing the risk of bias.\n",
        "Results are more likely to represent the entire population.Examples: Simple random sampling, stratified sampling, cluster sampling.\n",
        "-  Non-Random Sampling (Non-Probability Sampling):Not every member has a chance of being selected.Selection is based on convenience, judgment, or other non-random criteria.More prone to bias, and results may not represent the whole population.Examples: Convenience sampling, purposive sampling, snowball sampling.\n",
        "\n",
        "8. Define and give examples of qualitative and quantitative data.\n",
        "-  Qualitative data refers to descriptive information that can be categorized based on characteristics or qualities. It is non-numeric and deals with attributes or labels.Nature: Descriptive, non-numeric.Examples:Colors (e.g., red, blue, green),names (e.g., John, Sarah, Michael),types of Animals (e.g., dog, cat, bird),survey Responses (e.g., Yes, No, Maybe).\n",
        "-  Quantitative data consists of numeric values that can be measured and quantified. It represents counts, amounts, or measurements.Nature: Numeric, measurable.Examples:Height (e.g., 170 cm, 5'7\"),age (e.g., 25 years, 40 years),income (e.g., $50,000, $75,000),number of Students (e.g., 30 students, 150 students).\n",
        "\n",
        "9. What are the different types of data in statistics?\n",
        "-  Nominal Data (Categorical Data):Nominal data refers to data that can be categorized but cannot be ordered or measured. The categories are distinct but do not have a meaningful sequence.Characteristics:Categorical, non-numeric.This data type has no specific order or ranking.Examples:Gender (Male, Female),colors (Red, Blue, Green),types of Fruits (Apple, Banana, Orange)\n",
        "-  Ordinal Data:Ordinal data refers to data that can be categorized and has a meaningful order or ranking. However, the intervals between the ranks are not necessarily equal.Characteristics:Categories with a meaningful order but the differences between ranks are not necessarily equal.Examples:Education Levels (High School, Bachelor's, Master's, Ph.D.),Rating Scales (1 star, 2 stars, 3 stars, etc.),Class Ranks (1st, 2nd, 3rd).\n",
        "-  Interval Data:Interval data is numeric and has equal intervals between values. However, it does not have an absolute zero point, meaning ratios cannot be meaningfully calculated.Characteristics:Numeric data.This data type has equal intervals between values.Examples:Temperature (in Celsius or Fahrenheit) (e.g., 10°C, 20°C, 30°C),IQ Scores (e.g., 90, 100, 110).\n",
        "-  Ratio Data:Ratio data is similar to interval data but has an absolute zero point, meaning you can perform all arithmetic operations, including calculating ratios.Characteristics:Numeric data.It has equal intervals between values.Examples:Height (e.g., 5 ft, 6 ft),Weight (e.g., 60 kg, 70 kg),Income (e.g., $50,000, $100,000).\n",
        "\n",
        "10. Explain nominal, ordinal, interval, and ratio levels of measurement?\n",
        "-  Nominal Data (Categorical Data):Nominal data refers to data that can be categorized but cannot be ordered or measured. The categories are distinct but do not have a meaningful sequence.Characteristics:Categorical, non-numeric.This data type has no specific order or ranking.Examples:Gender (Male, Female),colors (Red, Blue, Green),types of Fruits (Apple, Banana, Orange)\n",
        "-  Ordinal Data:Ordinal data refers to data that can be categorized and has a meaningful order or ranking. However, the intervals between the ranks are not necessarily equal.Characteristics:Categories with a meaningful order but the differences between ranks are not necessarily equal.Examples:Education Levels (High School, Bachelor's, Master's, Ph.D.),Rating Scales (1 star, 2 stars, 3 stars, etc.),Class Ranks (1st, 2nd, 3rd).\n",
        "-  Interval Data:Interval data is numeric and has equal intervals between values. However, it does not have an absolute zero point, meaning ratios cannot be meaningfully calculated.Characteristics:Numeric data.This data type has equal intervals between values.Examples:Temperature (in Celsius or Fahrenheit) (e.g., 10°C, 20°C, 30°C),IQ Scores (e.g., 90, 100, 110).\n",
        "-  Ratio Data:Ratio data is similar to interval data but has an absolute zero point, meaning you can perform all arithmetic operations, including calculating ratios.Characteristics:Numeric data.It has equal intervals between values.Examples:Height (e.g., 5 ft, 6 ft),Weight (e.g., 60 kg, 70 kg),Income (e.g., $50,000, $100,000).\n",
        "\n",
        "11. What is the measure of central tendency?\n",
        "-  A measure of central tendency is a statistical measure used to describe the center or typical value of a dataset. It provides a single value that represents the \"middle\" of the data. The three most commonly used measures of central tendency are:Mean,Median and Mode.\n",
        "\n",
        "12. Define mean, median, and mode.\n",
        "-  Mean (Average):The mean is the sum of all the values in the dataset divided by the number of values. It is the most commonly used measure and works well when the data is evenly distributed.\n",
        "-  Median:The median is the middle value in a dataset when the values are arranged in ascending or descending order. If the dataset has an even number of values, the median is the average of the two middle values.\n",
        "-   Mode:The mode is the value that appears most frequently in a dataset. There can be more than one mode if multiple values have the same highest frequency.\n",
        "\n",
        "13. What is the significance of the measure of central tendency?\n",
        "-  SIGNIFICANCE OF MEASURE OF CENTRAL TENDENCY:\n",
        "-  Simplifies Data Interpretation:It condenses a large set of data into a single representative value, making it easier to understand and analyze.\n",
        "-  Helps in Comparison:Measures like mean or median allow for easy comparison between different datasets or groups.\n",
        "-  Supports Decision-Making:Central tendency is used in various fields (business, economics, education, healthcare, etc.) to make informed decisions based on average performance, customer behavior, income levels, etc.\n",
        "-  Identifies Patterns:It helps detect trends, such as the most common outcome (mode), average performance (mean), or central position (median) in data.\n",
        "-  Basis for Further Statistical Analysis:Measures of central tendency are foundational tools used in more complex statistical methods like standard deviation, correlation, regression, and hypothesis testing.\n",
        "\n",
        "14. What is variance, and how is it calculated?\n",
        "-  Variance is a statistical measure that indicates how much the values in a dataset deviate from the mean (average). It shows the spread or dispersion of the data. A higher variance means data points are more spread out from the mean, while a lower variance indicates they are closer to the mean.Steps to Calculate Variance:\n",
        "-  Find the mean of the dataset.\n",
        "-  Subtract the mean from each data value and square the result.\n",
        "-  Find the sum of all squared differences.\n",
        "-  Divide by N (for population) or n - 1 (for sample).\n",
        "\n",
        "15. What is standard deviation, and why is it important?\n",
        "-  The standard deviation is a measure that shows how spread out or scattered the values in a dataset are from the mean (average). It tells us how much the individual data points differ from the average value.A small standard deviation means the values are close to the mean.A large standard deviation means the values are more spread out.\n",
        "-  IMPORTANCE:\n",
        "-  Measures Variability:It shows how consistent or spread out the data is.\n",
        "-  Helps in Comparison:You can compare two datasets to see which one has more variation.\n",
        "-  Used in Decision Making:In finance, business, and science, it helps assess risk, quality, and performance.\n",
        "-  Basis for Other Analyses:It's used in other statistical tools like confidence intervals, hypothesis testing, and regression analysis.\n",
        "-  Interprets Normal Distribution:In a normal distribution:\n",
        "-  ~68% of data lies within 1 standard deviation from the mean\n",
        "-  ~95% within 2 standard deviations\n",
        "-  ~99.7% within 3 standard deviations\n",
        "\n",
        "16. Define and explain the term range in statistics.\n",
        "-  In statistics, the range is a measure of dispersion that shows the difference between the highest and lowest values in a dataset. It gives a quick sense of how spread out the data is.\n",
        "\n",
        "17. What is the difference between variance and standard deviation?\n",
        "-  DIFFERENCES:\n",
        "-  Definition:Variance measures the average of the squared differences from the mean.Standard Deviation is the square root of the variance and shows the average distance of each value from the mean.\n",
        "-  Units:Variance is in squared units (e.g., cm², kg²), which can be harder to interpret.Standard deviation is in the same units as the data (e.g., cm, kg), making it more practical and easier to understand.\n",
        "-  Interpretation:Variance is mainly used for mathematical and theoretical analysis.Standard deviation is more commonly used in real-world interpretation, since it directly reflects how far data typically falls from the mean.\n",
        "\n",
        "18. What is skewness in a dataset?\n",
        "-  Skewness is a statistical measure that describes the asymmetry or lack of symmetry in a dataset's distribution. It tells you whether the data is skewed to the left (negatively skewed) or skewed to the right (positively skewed).\n",
        "\n",
        "\n",
        "19. What does it mean if a dataset is positively or negatively skewed?\n",
        "-  Positive Skew (Right Skewed):In a positively skewed distribution, the right tail (larger values) is longer than the left tail. Most of the data is concentrated on the left, with a few large values pulling the mean to the right.Example: Income distribution where most people earn lower incomes, but a few earn very high incomes.\n",
        "-  Negative Skew (Left Skewed):In a negatively skewed distribution, the left tail (smaller values) is longer than the right tail. Most of the data is concentrated on the right, with a few small values pulling the mean to the left.Example: Age at retirement, where most people retire around the same age, but a few retire much earlier.\n",
        "\n",
        "20. Define and explain kurtosis.\n",
        "-  Kurtosis is a statistical measure that describes the shape of a distribution's tails—specifically, it tells us how heavy or light the tails of a distribution are in comparison to a normal distribution. It gives insight into the presence of outliers and the degree of peakedness of the data.\n",
        "\n",
        "21. What is the purpose of covariance?\n",
        "-  PURPOSE OF COVARIANCE:\n",
        "-  Measure of Relationship:Covariance helps to understand how two variables change together. It shows whether an increase in one variable is associated with an increase or decrease in another.\n",
        "-  Positive Covariance:If the covariance is positive, it means that as one variable increases, the other tends to increase as well.Example: Height and weight often have a positive covariance—taller people tend to be heavier.\n",
        "-  Negative Covariance:If the covariance is negative, it means that as one variable increases, the other tends to decrease.Example: Temperature and the amount of clothing worn—when the temperature increases, people generally wear less clothing.\n",
        "-  No Linear Relationship:If the covariance is close to zero, it suggests that the two variables have little or no linear relationship.Example: Shoe size and IQ probably have a near-zero covariance.\n",
        "-  Foundation for Correlation:Covariance is the foundation of the correlation coefficient, which standardizes the relationship between two variables and makes it easier to interpret (since correlation values range between -1 and +1).\n",
        "\n",
        "22. What does correlation measure in statistics?\n",
        "-  Correlation in statistics measures the strength and direction of the linear relationship between two variables. It tells us whether, and to what extent, the variables are related and how they move in relation to each other. Correlation values range from -1 to +1, where:\n",
        "-  +1 indicates a perfect positive linear relationship (as one variable increases, the other increases in a perfectly predictable way).\n",
        "-  -1 indicates a perfect negative linear relationship (as one variable increases, the other decreases in a perfectly predictable way).\n",
        "-  0 indicates no linear relationship between the variables.\n",
        "\n",
        "23. What is the difference between covariance and correlation?\n",
        "-  Key Differences Between Covariance and Correlation:\n",
        "-  Scale of Measurement:Covariance is not standardized and depends on the units of the variables. This makes it difficult to interpret across different datasets.Correlation is standardized, meaning it is dimensionless and always has a value between -1 and +1. This makes it easier to interpret and compare across different datasets.\n",
        "-  Interpretation:Covariance gives the direction of the relationship (whether the variables move in the same or opposite directions), but its magnitude is affected by the scale of the data.Correlation not only gives the direction but also measures the strength of the relationship between the variables. It shows how closely the variables are related, with values close to +1 or -1 indicating a strong relationship.\n",
        "-  Range of Values:Covariance can take any value from -∞ to +∞, depending on the magnitude of the variables.Correlation is always between -1 and +1. A correlation of +1 means a perfect positive linear relationship, -1 means a perfect negative linear relationship, and 0 means no linear relationship.\n",
        "-  Covariance can be useful for understanding the direction of the relationship between variables, but it is harder to compare across different datasets due to its dependence on units.Correlation, being standardized, makes it easier to interpret the strength and direction of the relationship and to compare relationships between different datasets regardless of their scale.\n",
        "\n",
        "24. What are some real-world applications of statistics?\n",
        "-  Statistics plays a crucial role in various fields and is used to make informed decisions, solve problems, and analyze data. Here are some real-world applications of statistics across different industries:\n",
        "\n",
        "-  Healthcare:Medical Research: Statistics are used to design and analyze clinical trials, assess the effectiveness of treatments, and understand the relationship between diseases and risk factors.Epidemiology: Analyzing data on disease spread, identifying risk factors, and making predictions (e.g., COVID-19 spread models).Public Health: Monitoring health trends, vaccination rates, and determining the effectiveness of public health interventions.\n",
        "\n",
        "-  Business and Marketing:Market Research: Companies use statistics to understand consumer preferences, segment customers, and design targeted marketing campaigns.\n",
        "Sales Analysis: Businesses analyze sales data to identify trends, forecast demand, and optimize pricing strategies.Product Quality Control: Statistics help monitor manufacturing processes, identify defects, and ensure product consistency (e.g., Six Sigma).\n",
        "\n",
        "-  Finance and Economics:Stock Market Analysis: Investors and financial analysts use statistics to analyze trends, predict market movements, and make investment decisions.Risk Management: Banks and insurance companies use statistical models to assess risks, set premiums, and determine the probability of various financial events.Economic Forecasting: Economists use statistical data to predict economic growth, inflation, unemployment rates, and other key indicators.\n",
        "\n",
        "-  Sports:Performance Analysis: Teams use statistics to evaluate players' performance, strategize, and improve outcomes (e.g., analyzing player stats in basketball or soccer).Sports Analytics: Advanced statistical models help in scouting talent, predicting game outcomes, and assessing team strategies.Fantasy Sports: Fantasy sports leagues rely heavily on statistical data to draft players and predict outcomes.\n",
        "\n",
        "-  Government and Public Policy:Census Data: Governments use statistics to collect and analyze data about the population, which helps in policy-making, allocation of resources, and representation.Polls and Surveys: Political campaigns, public opinion surveys, and market research rely on statistical sampling and analysis to gauge public opinion and voter behavior.Social Programs: Evaluating the impact of social programs (e.g., unemployment benefits, healthcare reforms) using statistical data.\n",
        "\n",
        "-  Education:Student Assessment: Educational institutions use statistics to analyze student performance, design fair tests, and improve curriculum and teaching methods.Curriculum Development: Analyzing educational outcomes, dropout rates, and graduation rates to improve the educational system.Standardized Testing: Statistical methods help in designing and analyzing standardized tests (e.g., SAT, GRE) to ensure reliability and fairness.\n",
        "\n",
        "-  Technology and Engineering:Machine Learning and AI: Statistics is fundamental in developing algorithms for machine learning and artificial intelligence, allowing machines to learn from data and make predictions.Data Science: Data scientists use statistical methods to clean, analyze, and derive insights from large datasets, enabling businesses to make data-driven decisions.Quality Assurance: Engineers use statistical process control (SPC) to monitor and improve the quality of products and services.\n",
        "\n",
        "-  Environmental Science:Climate Change Research: Analyzing environmental data, such as temperature changes, carbon emissions, and sea-level rise, to model and predict climate change impacts.Pollution Monitoring: Using statistics to monitor pollution levels in air, water, and soil, and to develop policies to reduce environmental harm.Biodiversity Studies: Estimating species populations, understanding ecosystems, and making conservation decisions based on statistical analysis.\n",
        "\n",
        "-  Criminal Justice:Crime Analysis: Police departments and criminologists use statistics to analyze crime patterns, predict crime hotspots, and allocate resources effectively.Forensic Science: Statistical methods are used in DNA analysis, fingerprint matching, and other forensic investigations.Risk Assessment: Statistical models are used to assess the risk of reoffending and inform sentencing decisions.\n",
        "\n",
        "-  Transportation:Traffic Flow Analysis: Statistics help in designing road systems, understanding traffic patterns, and reducing congestion.Logistics and Supply Chain: Optimizing routes, managing inventories, and predicting delivery times based on statistical analysis.Airline Industry: Airlines use statistics to forecast demand, set ticket prices, and optimize flight schedules.\n",
        "\n",
        "-  Agriculture:Crop Yield Prediction: Statistical models help predict crop yields based on weather conditions, soil quality, and other factors.\n",
        "Farm Management: Statistics help farmers analyze data on weather, pests, and soil health to make better farming decisions and improve productivity.\n",
        "Genetic Studies: In agriculture, statistical analysis is used in breeding programs to identify desirable traits and improve crop varieties.\n",
        "\n",
        "\n",
        "\n",
        "\n",
        "\n",
        "\n",
        "\n",
        "\n",
        "\n",
        "\n",
        "\n",
        "\n",
        "\n",
        "\n",
        "\n",
        "\n",
        "\n",
        "\n",
        "\n",
        "\n",
        "\n",
        "\n",
        "  \n",
        "\n",
        "\n",
        "\n",
        "\n",
        "\n",
        "\n",
        "\n",
        "\n",
        "\n",
        "\n"
      ],
      "metadata": {
        "id": "T1dtc_PR91Rp"
      }
    },
    {
      "cell_type": "markdown",
      "source": [
        "# PRACTICAL QUESTIONS"
      ],
      "metadata": {
        "id": "wZf97wxKnyoR"
      }
    },
    {
      "cell_type": "markdown",
      "source": [
        "1. How do you calculate the mean, median, and mode of a dataset?"
      ],
      "metadata": {
        "id": "EKwQJihnn33q"
      }
    },
    {
      "cell_type": "code",
      "source": [
        "import statistics\n",
        "data=[10,20,20,30,40,50]\n",
        "mean=statistics.mean(data)\n",
        "median=statistics.median(data)\n",
        "mode=statistics.mode(data)\n",
        "print(mean)\n",
        "print(median)\n",
        "print(mode)"
      ],
      "metadata": {
        "id": "azinXEzY9rcn",
        "colab": {
          "base_uri": "https://localhost:8080/"
        },
        "outputId": "b9c1f259-5d81-4d6a-c4d3-737aa3197568"
      },
      "execution_count": null,
      "outputs": [
        {
          "output_type": "stream",
          "name": "stdout",
          "text": [
            "28.333333333333332\n",
            "25.0\n",
            "20\n"
          ]
        }
      ]
    },
    {
      "cell_type": "markdown",
      "source": [
        "2. Write a Python program to compute the variance and standard deviation of a dataset."
      ],
      "metadata": {
        "id": "KLO4MHYsHexK"
      }
    },
    {
      "cell_type": "code",
      "source": [
        "import statistics\n",
        "data=[10,20,20,30,40,50]\n",
        "variance=statistics.variance(data)\n",
        "standard_deviation=statistics.stdev(data)\n",
        "print(variance)\n",
        "print(standard_deviation)\n"
      ],
      "metadata": {
        "colab": {
          "base_uri": "https://localhost:8080/"
        },
        "id": "4NlSo2HsHWO3",
        "outputId": "c9716b03-4510-4960-bc4a-74e86119d286"
      },
      "execution_count": null,
      "outputs": [
        {
          "output_type": "stream",
          "name": "stdout",
          "text": [
            "216.66666666666666\n",
            "14.719601443879744\n"
          ]
        }
      ]
    },
    {
      "cell_type": "markdown",
      "source": [
        "3. Create a dataset and classify it into nominal, ordinal, interval, and ratio types."
      ],
      "metadata": {
        "id": "Jk9D_fNgIcl4"
      }
    },
    {
      "cell_type": "code",
      "source": [
        "import pandas as pd\n",
        "data={\"Name\":[\"Alice\",\"Bob\",\"Carol\"],\"T_shirt_size\":[\"S\",\"M\",\"L\"],\"Temperature\":[25,20,30],\"Age\":[29,18,20],\"Favorite_color\":[\"Red\",\"Blue\",\"Green\"]}\n",
        "df=pd.DataFrame(data)\n",
        "print(\"Dataset:\\n\",df)\n",
        "classification={\"Name\":\"Nominal\",\"T_shirt_size\":\"Ordinal\",\"Temperature\":\"Interval\",\"Age\":\"Ratio\",\"Favorite_color\":\"Nominal\"}\n",
        "print(\"\\n Column Data Types(by measurement scale):\")\n",
        "for column,dtype in classification.items():\n",
        "    print(f\"{column}:{dtype}\")\n"
      ],
      "metadata": {
        "colab": {
          "base_uri": "https://localhost:8080/"
        },
        "id": "S-ttgzyYIWI8",
        "outputId": "99893dec-de89-452b-a7e8-fece32612de7"
      },
      "execution_count": null,
      "outputs": [
        {
          "output_type": "stream",
          "name": "stdout",
          "text": [
            "Dataset:\n",
            "     Name T_shirt_size  Temperature  Age Favorite_color\n",
            "0  Alice            S           25   29            Red\n",
            "1    Bob            M           20   18           Blue\n",
            "2  Carol            L           30   20          Green\n",
            "\n",
            " Column Data Types(by measurement scale):\n",
            "Name:Nominal\n",
            "T_shirt_size:Ordinal\n",
            "Temperature:Interval\n",
            "Age:Ratio\n",
            "Favorite_color:Nominal\n"
          ]
        }
      ]
    },
    {
      "cell_type": "markdown",
      "source": [
        "4. Implement sampling techniques like random sampling and stratified sampling."
      ],
      "metadata": {
        "id": "c4PWrtyTRFoM"
      }
    },
    {
      "cell_type": "code",
      "source": [
        "import pandas as pd\n",
        "data={\"Name\":[\"Alice\",\"Bob\",\"Carol\",\"David\",\"Eva\"],\"Age\":[25, 30, 28, 22, 35]}\n",
        "df=pd.DataFrame(data)\n",
        "random_sample=df.sample(2)\n",
        "print(random_sample)"
      ],
      "metadata": {
        "colab": {
          "base_uri": "https://localhost:8080/"
        },
        "id": "8RzTKViGPk4F",
        "outputId": "2debbca8-42a7-4915-e1a0-7074a5636979"
      },
      "execution_count": null,
      "outputs": [
        {
          "output_type": "stream",
          "name": "stdout",
          "text": [
            "    Name  Age\n",
            "2  Carol   28\n",
            "0  Alice   25\n"
          ]
        }
      ]
    },
    {
      "cell_type": "code",
      "source": [
        "from sklearn.model_selection import train_test_split\n",
        "data={\"Name\":[\"Alice\",\"Bob\",\"Carol\",\"David\",\"Eva\",\"Kristie\"],\"Age\":[25, 30, 28, 22, 35,32],\"Gender\": [\"F\", \"M\", \"F\", \"M\", \"F\",\"M\"]}\n",
        "df=pd.DataFrame(data)\n",
        "stratified_sample,_=train_test_split(df,test_size=0.5,stratify=df[\"Gender\"])\n",
        "print(stratified_sample)"
      ],
      "metadata": {
        "colab": {
          "base_uri": "https://localhost:8080/"
        },
        "id": "lECjp5kvUIqi",
        "outputId": "10647f22-518d-4c6a-f983-7cb1f7fd3677"
      },
      "execution_count": null,
      "outputs": [
        {
          "output_type": "stream",
          "name": "stdout",
          "text": [
            "      Name  Age Gender\n",
            "5  Kristie   32      M\n",
            "2    Carol   28      F\n",
            "1      Bob   30      M\n"
          ]
        }
      ]
    },
    {
      "cell_type": "markdown",
      "source": [
        "5. Write a Python function to calculate the range of a dataset."
      ],
      "metadata": {
        "id": "pZDF2-21XeYZ"
      }
    },
    {
      "cell_type": "code",
      "source": [
        "def calculate_range(numbers):\n",
        "    return max(numbers)-min(numbers)\n",
        "numbers=[1,4,9]\n",
        "print(calculate_range(numbers))"
      ],
      "metadata": {
        "id": "Y-minKKMXgjX",
        "colab": {
          "base_uri": "https://localhost:8080/"
        },
        "outputId": "1cd43d85-eeec-4e1f-e4f5-e73f80dd065e"
      },
      "execution_count": null,
      "outputs": [
        {
          "output_type": "stream",
          "name": "stdout",
          "text": [
            "8\n"
          ]
        }
      ]
    },
    {
      "cell_type": "markdown",
      "source": [
        "6. Create a dataset and plot its histogram to visualize skewness."
      ],
      "metadata": {
        "id": "1BT2txOv9N0G"
      }
    },
    {
      "cell_type": "code",
      "source": [
        "import numpy as np\n",
        "import matplotlib.pyplot as plt\n",
        "data=np.random.exponential(2,1000)\n",
        "plt.hist(data,bins=20)\n",
        "plt.show()"
      ],
      "metadata": {
        "colab": {
          "base_uri": "https://localhost:8080/",
          "height": 431
        },
        "id": "rBWX75BL9T-k",
        "outputId": "34e65849-23d2-47c6-d839-814fa6b9b3a9"
      },
      "execution_count": null,
      "outputs": [
        {
          "output_type": "display_data",
          "data": {
            "text/plain": [
              "<Figure size 640x480 with 1 Axes>"
            ],
            "image/png": "[encoded data removed]"
          },
          "metadata": {}
        }
      ]
    },
    {
      "cell_type": "markdown",
      "source": [
        "7. Calculate skewness and kurtosis of a dataset using Python libraries."
      ],
      "metadata": {
        "id": "KzVmDPFLFDpc"
      }
    },
    {
      "cell_type": "code",
      "source": [
        "import numpy as np\n",
        "from scipy.stats import skew, kurtosis\n",
        "data=np.random.exponential(2,1000)\n",
        "print(skew(data))\n",
        "print(kurtosis(data))"
      ],
      "metadata": {
        "colab": {
          "base_uri": "https://localhost:8080/"
        },
        "id": "keDHruYqEpsa",
        "outputId": "24fc5aec-b790-418b-9322-3b3c00c59554"
      },
      "execution_count": null,
      "outputs": [
        {
          "output_type": "stream",
          "name": "stdout",
          "text": [
            "1.88448127909598\n",
            "4.89038011670621\n"
          ]
        }
      ]
    },
    {
      "cell_type": "markdown",
      "source": [
        "8. Generate a dataset and demonstrate positive and negative skewness."
      ],
      "metadata": {
        "id": "qEAo8VVvHNl3"
      }
    },
    {
      "cell_type": "code",
      "source": [
        "import numpy as np\n",
        "import matplotlib.pyplot as plt\n",
        "from scipy.stats import skew\n",
        "positive_data=np.random.exponential(2,1000)\n",
        "negative_data=-np.random.exponential(2,1000)\n",
        "plt.hist(positive_data,bins=30,color=\"skyblue\",edgecolor=\"black\")\n",
        "plt.show()\n",
        "plt.hist(negative_data,bins=30,color=\"salmon\",edgecolor=\"black\")\n",
        "plt.show()"
      ],
      "metadata": {
        "colab": {
          "base_uri": "https://localhost:8080/",
          "height": 843
        },
        "id": "EWakGAIYGry6",
        "outputId": "1f7757fc-6e8d-4dc5-8865-5db5e12faa14"
      },
      "execution_count": null,
      "outputs": [
        {
          "output_type": "display_data",
          "data": {
            "text/plain": [
              "<Figure size 640x480 with 1 Axes>"
            ],
            "image/png": "[encoded data removed]"
          },
          "metadata": {}
        },
        {
          "output_type": "display_data",
          "data": {
            "text/plain": [
              "<Figure size 640x480 with 1 Axes>"
            ],
            "image/png": "[encoded data removed]"
          },
          "metadata": {}
        }
      ]
    },
    {
      "cell_type": "markdown",
      "source": [
        "9. Write a Python script to calculate covariance between two datasets."
      ],
      "metadata": {
        "id": "fglbwoOqL5Hu"
      }
    },
    {
      "cell_type": "code",
      "source": [
        "x=[2.1, 2.5, 4.0, 3.6]\n",
        "y=[8, 12, 14, 10]\n",
        "mean_x=sum(x)/len(x)\n",
        "mean_y=sum(y)/len(y)\n",
        "covariance=sum((a-mean_x)*(b-mean_y) for a,b in zip(x,y))/(len(x)-1)\n",
        "print(covariance)"
      ],
      "metadata": {
        "id": "HoBCJKcXKyvJ",
        "colab": {
          "base_uri": "https://localhost:8080/"
        },
        "outputId": "c9b164bc-d250-4446-fe2b-c14376c3eae8"
      },
      "execution_count": null,
      "outputs": [
        {
          "output_type": "stream",
          "name": "stdout",
          "text": [
            "1.5333333333333332\n"
          ]
        }
      ]
    },
    {
      "cell_type": "markdown",
      "source": [
        "10. Write a Python script to calculate the correlation coefficient between two datasets."
      ],
      "metadata": {
        "id": "i54L6YsPV-Zz"
      }
    },
    {
      "cell_type": "code",
      "source": [
        "x=[2.1, 2.5, 4.0, 3.6]\n",
        "y=[8, 12, 14, 10]\n",
        "mean_x=sum(x)/len(x)\n",
        "mean_y=sum(y)/len(y)\n",
        "numerator=sum((a-mean_x)*(b-mean_y) for a,b in zip(x,y))\n",
        "sum_sq_x=sum((a-mean_x)**2 for a in x)\n",
        "sum_sq_y=sum((b-mean_y)**2 for b in y)\n",
        "denominator=(sum_sq_x*sum_sq_y)**0.5\n",
        "correlation=numerator/denominator\n",
        "print(correlation)"
      ],
      "metadata": {
        "colab": {
          "base_uri": "https://localhost:8080/"
        },
        "id": "gngcqruyVfLV",
        "outputId": "d7e4eb51-964a-479f-8688-ee7af26e5547"
      },
      "execution_count": null,
      "outputs": [
        {
          "output_type": "stream",
          "name": "stdout",
          "text": [
            "0.6625738822030289\n"
          ]
        }
      ]
    },
    {
      "cell_type": "markdown",
      "source": [
        "11. Create a scatter plot to visualize the relationship between two variables."
      ],
      "metadata": {
        "id": "IO1BXTnbfmyA"
      }
    },
    {
      "cell_type": "code",
      "source": [
        "import matplotlib.pyplot as plt\n",
        "x=[2.1, 2.5, 4.0, 3.6]\n",
        "y=[8, 12, 14, 10]\n",
        "plt.scatter(x,y)\n",
        "plt.show()\n"
      ],
      "metadata": {
        "colab": {
          "base_uri": "https://localhost:8080/",
          "height": 430
        },
        "id": "LzEdEKL1fZNn",
        "outputId": "426ed1ed-2aa1-4f01-9641-38ed828db1ba"
      },
      "execution_count": null,
      "outputs": [
        {
          "output_type": "display_data",
          "data": {
            "text/plain": [
              "<Figure size 640x480 with 1 Axes>"
            ],
            "image/png": "[encoded data removed]"
          },
          "metadata": {}
        }
      ]
    },
    {
      "cell_type": "markdown",
      "source": [
        "12. Implement and compare simple random sampling and systematic sampling."
      ],
      "metadata": {
        "id": "M481ZT2Yg8Ft"
      }
    },
    {
      "cell_type": "code",
      "source": [
        "import random\n",
        "population=list(range(1,101))\n",
        "sample_size=10\n",
        "srs=random.sample(population,sample_size)\n",
        "print(srs)"
      ],
      "metadata": {
        "colab": {
          "base_uri": "https://localhost:8080/"
        },
        "id": "96Ow4j9DgqRp",
        "outputId": "665b43ae-15d6-421f-b0c7-11b34b5f91a8"
      },
      "execution_count": null,
      "outputs": [
        {
          "output_type": "stream",
          "name": "stdout",
          "text": [
            "[98, 56, 64, 22, 39, 93, 33, 89, 70, 24]\n"
          ]
        }
      ]
    },
    {
      "cell_type": "code",
      "source": [
        "import random\n",
        "population=list(range(1,101))\n",
        "sample_size=10\n",
        "step=len(population)//sample_size\n",
        "start=random.randint(0,step-1)\n",
        "systematic_sample=[population[start+i*step] for i in range(sample_size)]\n",
        "print(systematic_sample)\n"
      ],
      "metadata": {
        "colab": {
          "base_uri": "https://localhost:8080/"
        },
        "id": "p37GLQ2glc-z",
        "outputId": "0e6cd04a-6c85-490e-bf17-929e1275337e"
      },
      "execution_count": null,
      "outputs": [
        {
          "output_type": "stream",
          "name": "stdout",
          "text": [
            "[10, 20, 30, 40, 50, 60, 70, 80, 90, 100]\n"
          ]
        }
      ]
    },
    {
      "cell_type": "markdown",
      "source": [
        "13. Calculate the mean, median, and mode of grouped data."
      ],
      "metadata": {
        "id": "Up63o6H3zYSt"
      }
    },
    {
      "cell_type": "code",
      "source": [
        "classes=[(0,10),(10,20),(20,30),(30,40),(40,50)]\n",
        "frequencies=[5,8,15,16,6]\n",
        "mid1=(0+10)/2\n",
        "mid2=(10+20)/2\n",
        "mid3=(20+30)/2\n",
        "mid4=(30+40)/2\n",
        "mid5=(40+50)/2\n",
        "total_freq=5+8+15+16+6\n",
        "mean=(5*mid1+8*mid2+15*mid3+16*mid4+6*mid5)/total_freq\n",
        "print(mean)\n"
      ],
      "metadata": {
        "id": "UT4Kv0OzzAhJ",
        "colab": {
          "base_uri": "https://localhost:8080/"
        },
        "outputId": "0853c419-d206-4373-bfb2-b2cee40d0053"
      },
      "execution_count": null,
      "outputs": [
        {
          "output_type": "stream",
          "name": "stdout",
          "text": [
            "27.0\n"
          ]
        }
      ]
    },
    {
      "cell_type": "code",
      "source": [
        "cf_1=5\n",
        "cf_2=5+8\n",
        "cf_3=5+8+15\n",
        "cf_4=5+8+15+16\n",
        "cf_5=5+8+15+16+6\n",
        "N=total_freq\n",
        "half_N=N/2\n",
        "L=20\n",
        "CF=13\n",
        "f=15\n",
        "h=10\n",
        "median=L+((half_N-CF)/f)*h\n",
        "print(median)"
      ],
      "metadata": {
        "colab": {
          "base_uri": "https://localhost:8080/"
        },
        "id": "TS9duNcZ2sYO",
        "outputId": "734d06bf-151a-4bc7-a704-4350b22eef6e"
      },
      "execution_count": null,
      "outputs": [
        {
          "output_type": "stream",
          "name": "stdout",
          "text": [
            "28.0\n"
          ]
        }
      ]
    },
    {
      "cell_type": "code",
      "source": [
        "f1=16\n",
        "f0=15\n",
        "f2=6\n",
        "L=30\n",
        "h=10\n",
        "mode=L+((f1-f0)/(2*f1-f0-f2))*h\n",
        "print(mode)\n"
      ],
      "metadata": {
        "colab": {
          "base_uri": "https://localhost:8080/"
        },
        "id": "sDPI6Zgh6yBN",
        "outputId": "be68c877-b07a-4597-e896-35a052af08b3"
      },
      "execution_count": null,
      "outputs": [
        {
          "output_type": "stream",
          "name": "stdout",
          "text": [
            "30.90909090909091\n"
          ]
        }
      ]
    },
    {
      "cell_type": "markdown",
      "source": [
        "14. Simulate data using Python and calculate its central tendency and dispersion."
      ],
      "metadata": {
        "id": "-ucDwm5m8y81"
      }
    },
    {
      "cell_type": "code",
      "source": [
        "import numpy as np\n",
        "from scipy import stats\n",
        "np.random.seed(42)\n",
        "data=np.random.normal(loc=50,scale=10,size=1000)\n",
        "mean=np.mean(data)\n",
        "median=np.median(data)\n",
        "mode=stats.mode(data,keepdims=True)[0][0]\n",
        "std_dev=np.std(data)\n",
        "variance=np.var(data)\n",
        "data_range=np.max(data)-np.min(data)\n",
        "print(mean)\n",
        "print(median)\n",
        "print(mode)\n",
        "print(std_dev)\n",
        "print(variance)\n",
        "print(data_range)"
      ],
      "metadata": {
        "id": "lpxTR5dZ8UgK",
        "colab": {
          "base_uri": "https://localhost:8080/"
        },
        "outputId": "21bcdb1f-9325-4393-c296-3c3958f1dcab"
      },
      "execution_count": null,
      "outputs": [
        {
          "output_type": "stream",
          "name": "stdout",
          "text": [
            "50.193320558223256\n",
            "50.25300612234888\n",
            "17.58732659930927\n",
            "9.787262077473542\n",
            "95.79049897315173\n",
            "70.93998830723794\n"
          ]
        }
      ]
    },
    {
      "cell_type": "markdown",
      "source": [
        "15. Use NumPy or pandas to summarize a dataset’s descriptive statistics."
      ],
      "metadata": {
        "id": "hfa3RT1kWUwN"
      }
    },
    {
      "cell_type": "code",
      "source": [
        "import numpy as np\n",
        "data=np.random.normal(loc=50,scale=10,size=1000)\n",
        "mean=np.mean(data)\n",
        "median=np.median(data)\n",
        "std_dev=np.std(data)\n",
        "variance=np.var(data)\n",
        "minimum=np.min(data)\n",
        "maximum=np.max(data)\n",
        "q25=np.percentile(data,25)\n",
        "q75=np.percentile(data,75)\n",
        "print(mean)\n",
        "print(median)\n",
        "print(std_dev)\n",
        "print(variance)\n",
        "print(minimum)\n",
        "print(maximum)\n",
        "print(q25)\n",
        "print(q75)"
      ],
      "metadata": {
        "colab": {
          "base_uri": "https://localhost:8080/"
        },
        "id": "bIQvk7tAV6md",
        "outputId": "f782a5af-2992-4d2e-869f-e219b69fd6f9"
      },
      "execution_count": null,
      "outputs": [
        {
          "output_type": "stream",
          "name": "stdout",
          "text": [
            "50.70836237249156\n",
            "50.63077132329046\n",
            "9.969555252946302\n",
            "99.39203194154919\n",
            "20.596113653357197\n",
            "81.93107567844861\n",
            "43.93758310973888\n",
            "57.2888217703163\n"
          ]
        }
      ]
    },
    {
      "cell_type": "markdown",
      "source": [
        "16. Plot a boxplot to understand the spread and identify outliers."
      ],
      "metadata": {
        "id": "GMmqpYcnZDQt"
      }
    },
    {
      "cell_type": "code",
      "source": [
        "import matplotlib.pyplot as plt\n",
        "import numpy as np\n",
        "data=np.random.normal(0, 1, 100)\n",
        "plt.boxplot(data)\n",
        "plt.show()\n",
        "q1=np.percentile(data,25)\n",
        "q3=np.percentile(data,75)\n",
        "iqr=q3-q1\n",
        "lower_bound=q1-1.5*iqr\n",
        "upper_bound=q3+1.5*iqr\n",
        "outliers=data[(data<lower_bound)|(data>upper_bound)]\n",
        "print(outliers)"
      ],
      "metadata": {
        "colab": {
          "base_uri": "https://localhost:8080/",
          "height": 451
        },
        "id": "QINhDQATZH8H",
        "outputId": "045af2fd-1136-4d42-bdcb-41c836a9f623"
      },
      "execution_count": null,
      "outputs": [
        {
          "output_type": "display_data",
          "data": {
            "text/plain": [
              "<Figure size 640x480 with 1 Axes>"
            ],
            "image/png": "[encoded data removed]"
          },
          "metadata": {}
        },
        {
          "output_type": "stream",
          "name": "stdout",
          "text": [
            "[]\n"
          ]
        }
      ]
    },
    {
      "cell_type": "markdown",
      "source": [
        "17. Calculate the interquartile range (IQR) of a dataset."
      ],
      "metadata": {
        "id": "n972P_zUaAqq"
      }
    },
    {
      "cell_type": "code",
      "source": [
        "import numpy as np\n",
        "def calculate_iqr(data):\n",
        "    q1=np.percentile(data,25)\n",
        "    q3=np.percentile(data,75)\n",
        "    iqr=q3-q1\n",
        "    return iqr\n",
        "data=[45, 50, 55, 60, 65, 70, 75, 80, 85, 90]\n",
        "print(calculate_iqr(data))"
      ],
      "metadata": {
        "colab": {
          "base_uri": "https://localhost:8080/"
        },
        "id": "757Yrf9laH6F",
        "outputId": "79fc8847-da98-4ff9-cf0f-03612c21b504"
      },
      "execution_count": null,
      "outputs": [
        {
          "output_type": "stream",
          "name": "stdout",
          "text": [
            "22.5\n"
          ]
        }
      ]
    },
    {
      "cell_type": "markdown",
      "source": [
        "18. Implement Z-score normalization and explain its significance."
      ],
      "metadata": {
        "id": "lcqdIDQUb2W7"
      }
    },
    {
      "cell_type": "code",
      "source": [
        "import numpy as np\n",
        "def z_score_normalization(data):\n",
        "    mean=np.mean(data)\n",
        "    std_dev=np.std(data)\n",
        "    z_scores=(data-mean)/std_dev\n",
        "    return z_scores\n",
        "data=np.array([10,20,30,40,50])\n",
        "print(z_score_normalization(data))"
      ],
      "metadata": {
        "colab": {
          "base_uri": "https://localhost:8080/"
        },
        "id": "KFeXPaGNb6oQ",
        "outputId": "486412b8-8db7-414f-966e-267e05f8b25d"
      },
      "execution_count": null,
      "outputs": [
        {
          "output_type": "stream",
          "name": "stdout",
          "text": [
            "[-1.41421356 -0.70710678  0.          0.70710678  1.41421356]\n"
          ]
        }
      ]
    },
    {
      "cell_type": "markdown",
      "source": [
        "Z-score normalization addresses the issue of features being on different scales. It ensures that all features contribute equally to the analysis, preventing features with larger magnitudes from dominating."
      ],
      "metadata": {
        "id": "FVaj1mAjmoj8"
      }
    },
    {
      "cell_type": "markdown",
      "source": [
        "19. Compare two datasets using their standard deviations."
      ],
      "metadata": {
        "id": "sfeBm4HzcJhj"
      }
    },
    {
      "cell_type": "code",
      "source": [
        "import statistics\n",
        "data1=[10, 12, 15, 11, 9, 13]\n",
        "data2=[20, 25, 18, 22, 28, 19]\n",
        "std_dev1=statistics.stdev(data1)\n",
        "std_dev2=statistics.stdev(data2)\n",
        "print(std_dev1)\n",
        "print(std_dev2)"
      ],
      "metadata": {
        "colab": {
          "base_uri": "https://localhost:8080/"
        },
        "id": "YdJkM429Y-xd",
        "outputId": "0971d720-8e99-4410-fd64-b106f49c65fb"
      },
      "execution_count": null,
      "outputs": [
        {
          "output_type": "stream",
          "name": "stdout",
          "text": [
            "2.160246899469287\n",
            "3.847076812334269\n"
          ]
        }
      ]
    },
    {
      "cell_type": "markdown",
      "source": [
        "Since 3.847076812334269 is greater than 2.160246899469287, the data with a standard deviation of 3.847076812334269 is more dispersed than the data with a standard deviation of 2.160246899469287"
      ],
      "metadata": {
        "id": "Uicla9B8gUFC"
      }
    },
    {
      "cell_type": "markdown",
      "source": [
        "20. Write a Python program to visualize covariance using a heatmap."
      ],
      "metadata": {
        "id": "P14xhZ43gnZ9"
      }
    },
    {
      "cell_type": "code",
      "source": [
        "import pandas as pd\n",
        "import seaborn as sns\n",
        "import matplotlib.pyplot as plt\n",
        "data = {'A': [1, 2, 3, 4, 5],'B': [5, 4, 3, 2, 1],'C': [2, 3, 4, 5, 6]}\n",
        "df=pd.DataFrame(data)\n",
        "cov_matrix=df.cov()\n",
        "sns.heatmap(cov_matrix,annot=True)\n",
        "plt.show()"
      ],
      "metadata": {
        "id": "0r_ifGfHdAYU",
        "colab": {
          "base_uri": "https://localhost:8080/",
          "height": 430
        },
        "outputId": "ac9824da-5e3a-4473-f5e2-4de0333f2a64"
      },
      "execution_count": 1,
      "outputs": [
        {
          "output_type": "display_data",
          "data": {
            "text/plain": [
              "<Figure size 640x480 with 2 Axes>"
            ],
            "image/png": "[encoded data removed]"
          },
          "metadata": {}
        }
      ]
    },
    {
      "cell_type": "markdown",
      "source": [
        "21. Use seaborn to create a correlation matrix for a dataset."
      ],
      "metadata": {
        "id": "ccQWgGRUDZUV"
      }
    },
    {
      "cell_type": "code",
      "source": [
        "import pandas as pd\n",
        "import seaborn as sns\n",
        "import matplotlib.pyplot as plt\n",
        "data = {'A': [1, 2, 3, 4, 5],'B': [5, 4, 3, 2, 1],'C': [2, 3, 4, 5, 6]}\n",
        "df=pd.DataFrame(data)\n",
        "corr_matrix=df.corr()\n",
        "sns.heatmap(corr_matrix,annot=True)\n",
        "plt.show()"
      ],
      "metadata": {
        "colab": {
          "base_uri": "https://localhost:8080/",
          "height": 435
        },
        "id": "jNMp6NgmDeMe",
        "outputId": "52ec839c-afba-41c8-b1a5-ee219e319261"
      },
      "execution_count": 2,
      "outputs": [
        {
          "output_type": "display_data",
          "data": {
            "text/plain": [
              "<Figure size 640x480 with 2 Axes>"
            ],
            "image/png": "[encoded data removed]"
          },
          "metadata": {}
        }
      ]
    },
    {
      "cell_type": "markdown",
      "source": [
        "22. Generate a dataset and implement both variance and standard deviation computations."
      ],
      "metadata": {
        "id": "Tcynk8nMEa-4"
      }
    },
    {
      "cell_type": "code",
      "source": [
        "import pandas as pd\n",
        "data={\"Scores\":[50, 60, 65, 70, 85, 90, 95]}\n",
        "df=pd.DataFrame(data)\n",
        "variance=df[\"Scores\"].var()\n",
        "std_dev=df[\"Scores\"].std()\n",
        "print(variance)\n",
        "print(std_dev)"
      ],
      "metadata": {
        "colab": {
          "base_uri": "https://localhost:8080/"
        },
        "id": "dktTiQs3DIxp",
        "outputId": "dc0e47bf-d9f7-4221-b3b9-c1e35dcee8ab"
      },
      "execution_count": 3,
      "outputs": [
        {
          "output_type": "stream",
          "name": "stdout",
          "text": [
            "280.95238095238096\n",
            "16.761634196950517\n"
          ]
        }
      ]
    },
    {
      "cell_type": "markdown",
      "source": [
        "23. Visualize skewness and kurtosis using Python libraries like matplotlib or seaborn."
      ],
      "metadata": {
        "id": "UD1KNxl3G7HM"
      }
    },
    {
      "cell_type": "code",
      "source": [
        "import numpy as np\n",
        "import matplotlib.pyplot as plt\n",
        "from scipy.stats import skew,kurtosis\n",
        "data=np.random.normal(0,1,1000)\n",
        "data_skewness=skew(data)\n",
        "data_kurtosis=kurtosis(data)\n",
        "plt.hist(data)\n",
        "plt.show()"
      ],
      "metadata": {
        "colab": {
          "base_uri": "https://localhost:8080/",
          "height": 430
        },
        "id": "5cN_X0ovGyIX",
        "outputId": "3f8a8308-19c6-4b3e-ec06-8b2b0b2f22dc"
      },
      "execution_count": 4,
      "outputs": [
        {
          "output_type": "display_data",
          "data": {
            "text/plain": [
              "<Figure size 640x480 with 1 Axes>"
            ],
            "image/png": "[encoded data removed]"
          },
          "metadata": {}
        }
      ]
    },
    {
      "cell_type": "markdown",
      "source": [
        "24. Implement the Pearson and Spearman correlation coefficients for a dataset."
      ],
      "metadata": {
        "id": "xv9wY29RM1QX"
      }
    },
    {
      "cell_type": "code",
      "source": [
        "from scipy.stats import pearsonr,spearmanr\n",
        "data_x=[10, 20, 30, 40, 50]\n",
        "data_y=[5, 15, 25, 35, 45]\n",
        "pearson_corr,_=pearsonr(data_x,data_y)\n",
        "spearman_corr,_=spearmanr(data_x,data_y)\n",
        "print(pearson_corr)\n",
        "print(spearman_corr)"
      ],
      "metadata": {
        "colab": {
          "base_uri": "https://localhost:8080/"
        },
        "id": "ZKbFzfttMif_",
        "outputId": "f5ba5efb-b2ed-4a58-c224-6e2016cf519c"
      },
      "execution_count": 5,
      "outputs": [
        {
          "output_type": "stream",
          "name": "stdout",
          "text": [
            "0.9999999999999998\n",
            "0.9999999999999999\n"
          ]
        }
      ]
    }
  ]
}